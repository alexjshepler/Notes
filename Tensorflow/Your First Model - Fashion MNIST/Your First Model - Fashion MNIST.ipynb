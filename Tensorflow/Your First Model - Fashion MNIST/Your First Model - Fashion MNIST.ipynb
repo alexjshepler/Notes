{
 "cells": [
  {
   "cell_type": "markdown",
   "metadata": {},
   "source": [
    "# Your First Model - Fashion MNIST\n",
    "\n",
    "## Fashion MNIST Dataset\n",
    "\n",
    "Each picture is 28x28 pixels or 784 bytes\n",
    "\n",
    "| Label | Class |\n",
    "|-------|-------|\n",
    "| 0 | T-Shirt/Top |\n",
    "| 1 | Trouser |\n",
    "| 2 | Pullover |\n",
    "| 3 | Dress |\n",
    "| 4 | Coat |\n",
    "| 5 | Sandals |\n",
    "| 6 | Shirt |\n",
    "| 7 | Sneakers |\n",
    "| 8 | Bag |\n",
    "| 9 | Ankle Boot |\n",
    "\n",
    "The dataset has 70,000 images, 60,000 will be used for training and the remaining 10,000 will be used for testing.\n",
    "\n",
    "## Neural Network\n",
    "\n",
    "The input ot the network will be the 784 bytes, or pixels\n",
    "\n",
    "Flattening - Taking a 2D image and converting it to a 1D vector\n",
    "\n",
    "The dense layer is 128 units, and will be fully connected to the previous. It also has a ReLU activation because this is more complex than just simple conversion.\n",
    "\n",
    "The output will have 10 units, and the value for each will corelate the confidence of each item. The higher the confidence value of a specific unit means that the network thinks that it is that item.\n",
    "\n",
    "The sum of all of the outputs will be 1. To do this, the output layer activation will be softmax.\n",
    "\n",
    "Whenever the network does classification it will have the same number of output units as it does classes, and always use the softmax function\n",
    "\n",
    "### Rectified Linear Unit (ReLU)\n",
    "\n",
    "[Graph]\n",
    "\n",
    "If the output is less than or equal to zero, the output will be zero. Otherwise the output will be equal to the input.\n",
    "\n",
    "This gives the network the ability to solve nonlinear problems.\n",
    "\n",
    "### Review\n",
    "\n",
    "*Flattening* - The process of taking a 2d image to a 1d vector  \n",
    "*ReLU* - An activation function that allows a network to solve nonlinear problems  \n",
    "*Softmax* - A function that provides probability for each possible output class\n",
    "*Classification* - A machine learning model used for distinguishing among two or more output categories"
   ]
  }
 ],
 "metadata": {
  "language_info": {
   "name": "python"
  },
  "orig_nbformat": 4
 },
 "nbformat": 4,
 "nbformat_minor": 2
}
