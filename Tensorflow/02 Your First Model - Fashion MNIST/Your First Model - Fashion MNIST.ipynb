{
 "cells": [
  {
   "cell_type": "markdown",
   "metadata": {},
   "source": [
    "# Your First Model - Fashion MNIST\n",
    "\n",
    "## Fashion MNIST Dataset\n",
    "\n",
    "Each picture is 28x28 pixels or 784 bytes\n",
    "\n",
    "| Label | Class |\n",
    "|-------|-------|\n",
    "| 0 | T-Shirt/Top |\n",
    "| 1 | Trouser |\n",
    "| 2 | Pullover |\n",
    "| 3 | Dress |\n",
    "| 4 | Coat |\n",
    "| 5 | Sandals |\n",
    "| 6 | Shirt |\n",
    "| 7 | Sneakers |\n",
    "| 8 | Bag |\n",
    "| 9 | Ankle Boot |\n",
    "\n",
    "The dataset has 70,000 images, 60,000 will be used for training and the remaining 10,000 will be used for testing.\n",
    "\n",
    "## Neural Network\n",
    "\n",
    "The input ot the network will be the 784 bytes, or pixels\n",
    "\n",
    "*Flattening* - Taking a 2D image and converting it to a 1D vector\n",
    "\n",
    "The dense layer is 128 units, and will be fully connected to the previous. It also has a ReLU activation because this is more complex than just simple conversion.\n",
    "\n",
    "The output will have 10 units, and the value for each will corelate the confidence of each item. The higher the confidence value of a specific unit means that the network thinks that it is that item.\n",
    "\n",
    "The sum of all of the outputs will be 1. To do this, the output layer activation will be softmax.\n",
    "\n",
    "Whenever the network does classification it will have the same number of output units as it does classes, and always use the softmax function\n",
    "\n",
    "### Rectified Linear Unit (ReLU)\n",
    "\n",
    "[Graph]\n",
    "\n",
    "If the output is less than or equal to zero, the output will be zero. Otherwise the output will be equal to the input.\n",
    "\n",
    "This gives the network the ability to solve nonlinear problems.\n",
    "\n",
    "### Review\n",
    "\n",
    "*Flattening* - The process of taking a 2d image to a 1d vector  \n",
    "*ReLU* - An activation function that allows a network to solve nonlinear problems  \n",
    "*Softmax* - A function that provides probability for each possible output class  \n",
    "*Classification* - A machine learning model used for distinguishing among two or more output categories\n",
    "\n",
    "## Your First Model - Fashion MNIST\n",
    "\n",
    "You always need to split your data into at least two different partitions. One for training, and one for testing.\n",
    "\n",
    "We split the data because after the network uses the training data set, we want to test it with data that it hasn't seen before so we know how well it performs. If the practice was the same as the test, we wouldn't be able to tell if the network was just memorizing the answers or if it was actually learning to identify things correctly.\n",
    "\n",
    "*Training Set* - The data used for training the neural network  \n",
    "*Test Set* - The data used for testing the final performance of our network \n",
    "\n",
    "## Colab: Fashion MNIST\n",
    "\n",
    "To be able to train and test the network, we are going to need a dataset, and tensorflow provides that for us. We also need to import all of the required dependencies"
   ]
  },
  {
   "cell_type": "code",
   "execution_count": 1,
   "metadata": {},
   "outputs": [
    {
     "name": "stderr",
     "output_type": "stream",
     "text": [
      "2022-09-27 16:50:55.123540: I tensorflow/core/platform/cpu_feature_guard.cc:193] This TensorFlow binary is optimized with oneAPI Deep Neural Network Library (oneDNN) to use the following CPU instructions in performance-critical operations:  AVX2 FMA\n",
      "To enable them in other operations, rebuild TensorFlow with the appropriate compiler flags.\n",
      "/Library/Frameworks/Python.framework/Versions/3.8/lib/python3.8/site-packages/tqdm/auto.py:22: TqdmWarning: IProgress not found. Please update jupyter and ipywidgets. See https://ipywidgets.readthedocs.io/en/stable/user_install.html\n",
      "  from .autonotebook import tqdm as notebook_tqdm\n"
     ]
    }
   ],
   "source": [
    "import tensorflow as tf\n",
    "\n",
    "# Import the Datasets from tensorflow\n",
    "import tensorflow_datasets as tfds\n",
    "\n",
    "# Import the helper libraries\n",
    "import math\n",
    "import numpy as np\n",
    "import matplotlib.pyplot as plt\n",
    "\n",
    "# Import logging utilities\n",
    "import logging\n",
    "\n",
    "logger = tf.get_logger()\n",
    "logger.setLevel(logging.ERROR)"
   ]
  },
  {
   "cell_type": "markdown",
   "metadata": {},
   "source": [
    "Now, after importing everything, we need to load the dataset. Loading the dataset returns the metadata as well as the training dataset and the test dataset"
   ]
  },
  {
   "cell_type": "code",
   "execution_count": 2,
   "metadata": {},
   "outputs": [
    {
     "name": "stderr",
     "output_type": "stream",
     "text": [
      "2022-09-27 16:51:04.495860: I tensorflow/core/platform/cpu_feature_guard.cc:193] This TensorFlow binary is optimized with oneAPI Deep Neural Network Library (oneDNN) to use the following CPU instructions in performance-critical operations:  AVX2 FMA\n",
      "To enable them in other operations, rebuild TensorFlow with the appropriate compiler flags.\n"
     ]
    }
   ],
   "source": [
    "dataset, metadata = tfds.load('fashion_mnist', as_supervised=True, with_info=True)\n",
    "train_dataset, test_dataset = dataset['train'], dataset['test']"
   ]
  },
  {
   "cell_type": "markdown",
   "metadata": {},
   "source": [
    "The dataset contains 70,000 images, they are 28x28 pixels in gray scale with a value between 0 and 255. Each photo has an associated label, 0-9, that represents what type of clothing it is."
   ]
  },
  {
   "cell_type": "code",
   "execution_count": 3,
   "metadata": {},
   "outputs": [
    {
     "name": "stdout",
     "output_type": "stream",
     "text": [
      "Class names = ['T-shirt/top', 'Trouser', 'Pullover', 'Dress', 'Coat', 'Sandal', 'Shirt', 'Sneaker', 'Bag', 'Ankle boot']\n"
     ]
    }
   ],
   "source": [
    "class_names = metadata.features['label'].names\n",
    "print(\"Class names = {}\".format(class_names))"
   ]
  },
  {
   "cell_type": "markdown",
   "metadata": {},
   "source": [
    "Before we preprocessed the data, lets look at it first. We can see that it returned the name of each label and also the total number of examples in each set"
   ]
  },
  {
   "cell_type": "code",
   "execution_count": 4,
   "metadata": {},
   "outputs": [
    {
     "name": "stdout",
     "output_type": "stream",
     "text": [
      "Number of training examples:     60000\n",
      "Number of test examples:         10000\n"
     ]
    }
   ],
   "source": [
    "num_train_examples = metadata.splits['train'].num_examples\n",
    "num_test_examples = metadata.splits['test'].num_examples\n",
    "print(\"Number of training examples:     {}\".format(num_train_examples))\n",
    "print(\"Number of test examples:         {}\".format(num_test_examples))"
   ]
  },
  {
   "cell_type": "markdown",
   "metadata": {},
   "source": [
    "Before we can do anything with the data, it needs to be preprocessed, or normalized\n",
    "\n",
    "Because each pixel has a value of 0-255, it needs to be normalized between 0-1, so the network can work properly. If this is left untouched it won't work properly."
   ]
  },
  {
   "cell_type": "code",
   "execution_count": 5,
   "metadata": {},
   "outputs": [],
   "source": [
    "# Convert the image grey scale from 0-255 to 0-1 for the network so it can read it easier\n",
    "def normalize(images, labels):\n",
    "    images = tf.cast(images, tf.float32)\n",
    "    images /= 255\n",
    "    return images, labels\n",
    "\n",
    "# The map function applies the normalize function to each element in the train\n",
    "# and the test datasets\n",
    "train_dataset = train_dataset.map(normalize)\n",
    "test_dataset = test_dataset.map(normalize)\n",
    "\n",
    "# The first time you will use the dataset, the images will be loaded from the disk\n",
    "# Caching will keep them in memory, making everything faster\n",
    "train_dataset = train_dataset.cache()\n",
    "test_dataset = test_dataset.cache()"
   ]
  },
  {
   "cell_type": "markdown",
   "metadata": {},
   "source": [
    "After the data gets normalized, lets look at a couple examples to see what the network will train on."
   ]
  },
  {
   "cell_type": "code",
   "execution_count": 6,
   "metadata": {},
   "outputs": [
    {
     "name": "stderr",
     "output_type": "stream",
     "text": [
      "2022-09-27 16:51:05.627278: W tensorflow/core/kernels/data/cache_dataset_ops.cc:856] The calling iterator did not fully read the dataset being cached. In order to avoid unexpected truncation of the dataset, the partially cached contents of the dataset  will be discarded. This can happen if you have an input pipeline similar to `dataset.cache().take(k).repeat()`. You should use `dataset.take(k).cache().repeat()` instead.\n",
      "2022-09-27 16:51:05.628042: W tensorflow/core/kernels/data/cache_dataset_ops.cc:856] The calling iterator did not fully read the dataset being cached. In order to avoid unexpected truncation of the dataset, the partially cached contents of the dataset  will be discarded. This can happen if you have an input pipeline similar to `dataset.cache().take(k).repeat()`. You should use `dataset.take(k).cache().repeat()` instead.\n"
     ]
    },
    {
     "data": {
      "image/png": "[encoded data removed]",
      "text/plain": [
       "<Figure size 640x480 with 2 Axes>"
      ]
     },
     "metadata": {},
     "output_type": "display_data"
    }
   ],
   "source": [
    "# Take a single image, and remove the color dimension by reshaping\n",
    "for image, label in test_dataset.take(1):\n",
    "    break\n",
    "image = image.numpy().reshape((28,28))\n",
    "\n",
    "# Plot the image\n",
    "plt.figure()\n",
    "plt.imshow(image, cmap=plt.cm.binary)\n",
    "plt.colorbar()\n",
    "plt.grid(False)\n",
    "plt.show()"
   ]
  },
  {
   "cell_type": "code",
   "execution_count": 7,
   "metadata": {},
   "outputs": [
    {
     "name": "stderr",
     "output_type": "stream",
     "text": [
      "2022-09-27 16:51:06.644961: W tensorflow/core/kernels/data/cache_dataset_ops.cc:856] The calling iterator did not fully read the dataset being cached. In order to avoid unexpected truncation of the dataset, the partially cached contents of the dataset  will be discarded. This can happen if you have an input pipeline similar to `dataset.cache().take(k).repeat()`. You should use `dataset.take(k).cache().repeat()` instead.\n",
      "2022-09-27 16:51:06.645097: W tensorflow/core/kernels/data/cache_dataset_ops.cc:856] The calling iterator did not fully read the dataset being cached. In order to avoid unexpected truncation of the dataset, the partially cached contents of the dataset  will be discarded. This can happen if you have an input pipeline similar to `dataset.cache().take(k).repeat()`. You should use `dataset.take(k).cache().repeat()` instead.\n"
     ]
    },
    {
     "data": {
      "image/png": "[encoded data removed]",
      "text/plain": [
       "<Figure size 1000x1000 with 25 Axes>"
      ]
     },
     "metadata": {},
     "output_type": "display_data"
    }
   ],
   "source": [
    "plt.figure(figsize=(10,10))\n",
    "for i, (image, label) in enumerate(train_dataset.take(25)):\n",
    "    image = image.numpy().reshape((28,28))\n",
    "    plt.subplot(5,5,i+1)\n",
    "    plt.xticks([])\n",
    "    plt.yticks([])\n",
    "    plt.grid(False)\n",
    "    plt.imshow(image, cmap=plt.cm.binary)\n",
    "    plt.xlabel(class_names[label])\n",
    "plt.show()"
   ]
  },
  {
   "cell_type": "markdown",
   "metadata": {},
   "source": [
    "Now that all of the setup and preprocessing has been completed, we can start to configure the network"
   ]
  },
  {
   "cell_type": "code",
   "execution_count": 8,
   "metadata": {},
   "outputs": [],
   "source": [
    "model = tf.keras.Sequential([\n",
    "    tf.keras.layers.Flatten(input_shape=(28, 28, 1)),\n",
    "    tf.keras.layers.Dense(128, activation=tf.nn.relu),\n",
    "    tf.keras.layers.Dense(10, activation=tf.nn.softmax)\n",
    "])"
   ]
  },
  {
   "cell_type": "markdown",
   "metadata": {},
   "source": [
    "We will need to setup the layers for the network. For this simple example we will use three dense layers:\n",
    "\n",
    "***`input`** (flatten)* - This layer transforms a 2d-array of 28x28 pixels, to a 1d-array of 784 pixels. This unstacks the rows  \n",
    "***`\"Hidden\"`** (dense)* - A densely connected layer with 128 neurons. Each node (neuron) is taking input from the 784 input nodes in the previous layer. It weighs its input according to the hidden parameters obtained from training, then outputs a single value.  \n",
    "***`Output`** (dense)* - A 10 node layer that represented the probability of the nodes. The sum of all values will equal 1\n",
    "\n",
    "Now the layers are setup, it is time to compile the model. This is where the final settings will get applied, like the optimizer, loss, and metrics\n",
    "\n",
    "***`Loss`** function* - An algorithm used to measure the inaccuracy   \n",
    "***`Optimizer`** function* - An algorithm used for adjusting the parameters of the nodes in the hidden layer\n",
    "*Metric* - Used for training and sets what we are measuring"
   ]
  },
  {
   "cell_type": "code",
   "execution_count": 9,
   "metadata": {},
   "outputs": [],
   "source": [
    "model.compile(optimizer='adam', loss=tf.keras.losses.SparseCategoricalCrossentropy(), metrics=['accuracy'])"
   ]
  },
  {
   "cell_type": "markdown",
   "metadata": {},
   "source": [
    "Now the model is set we need to define the iteration behavior for hte training data set:\n",
    "1) Repeat forever (the epoch will limit this)\n",
    "2) Shuffle the dataset so the model doesn't learn by the order\n",
    "3) Use batches of 32\n",
    "\n",
    "After that we can start training by calling the previous parameters in the fit function, the model begins to learn and also set the epoch size."
   ]
  },
  {
   "cell_type": "code",
   "execution_count": 10,
   "metadata": {},
   "outputs": [],
   "source": [
    "BATCH_SIZE = 32\n",
    "train_dataset = train_dataset.cache().repeat().shuffle(num_train_examples).batch(BATCH_SIZE)\n",
    "test_dataset = test_dataset.cache().batch(BATCH_SIZE)"
   ]
  },
  {
   "cell_type": "markdown",
   "metadata": {},
   "source": [
    "During the training, it will display the progress"
   ]
  },
  {
   "cell_type": "code",
   "execution_count": 11,
   "metadata": {},
   "outputs": [
    {
     "name": "stdout",
     "output_type": "stream",
     "text": [
      "Epoch 1/500\n",
      "1875/1875 [==============================] - 7s 2ms/step - loss: 0.4962 - accuracy: 0.8231\n",
      "Epoch 2/500\n",
      "1875/1875 [==============================] - 5s 2ms/step - loss: 0.3715 - accuracy: 0.8651\n",
      "Epoch 3/500\n",
      "1875/1875 [==============================] - 5s 2ms/step - loss: 0.3305 - accuracy: 0.8805\n",
      "Epoch 4/500\n",
      "1875/1875 [==============================] - 4s 2ms/step - loss: 0.3136 - accuracy: 0.8860\n",
      "Epoch 5/500\n",
      "1875/1875 [==============================] - 4s 2ms/step - loss: 0.2910 - accuracy: 0.8935\n",
      "Epoch 6/500\n",
      "1875/1875 [==============================] - 4s 2ms/step - loss: 0.2804 - accuracy: 0.8967\n",
      "Epoch 7/500\n",
      "1875/1875 [==============================] - 4s 2ms/step - loss: 0.2679 - accuracy: 0.9011\n",
      "Epoch 8/500\n",
      "1875/1875 [==============================] - 4s 2ms/step - loss: 0.2536 - accuracy: 0.9055\n",
      "Epoch 9/500\n",
      "1875/1875 [==============================] - 4s 2ms/step - loss: 0.2500 - accuracy: 0.9072\n",
      "Epoch 10/500\n",
      "1875/1875 [==============================] - 4s 2ms/step - loss: 0.2390 - accuracy: 0.9107\n",
      "Epoch 11/500\n",
      "1875/1875 [==============================] - 4s 2ms/step - loss: 0.2291 - accuracy: 0.9142\n",
      "Epoch 12/500\n",
      "1875/1875 [==============================] - 4s 2ms/step - loss: 0.2225 - accuracy: 0.9166\n",
      "Epoch 13/500\n",
      "1875/1875 [==============================] - 4s 2ms/step - loss: 0.2140 - accuracy: 0.9194\n",
      "Epoch 14/500\n",
      "1875/1875 [==============================] - 4s 2ms/step - loss: 0.2077 - accuracy: 0.9226\n",
      "Epoch 15/500\n",
      "1875/1875 [==============================] - 4s 2ms/step - loss: 0.2048 - accuracy: 0.9229\n",
      "Epoch 16/500\n",
      "1875/1875 [==============================] - 5s 3ms/step - loss: 0.1964 - accuracy: 0.9255\n",
      "Epoch 17/500\n",
      "1875/1875 [==============================] - 5s 3ms/step - loss: 0.1930 - accuracy: 0.9268\n",
      "Epoch 18/500\n",
      "1875/1875 [==============================] - 5s 2ms/step - loss: 0.1885 - accuracy: 0.9294\n",
      "Epoch 19/500\n",
      "1875/1875 [==============================] - 4s 2ms/step - loss: 0.1774 - accuracy: 0.9337\n",
      "Epoch 20/500\n",
      "1875/1875 [==============================] - 4s 2ms/step - loss: 0.1791 - accuracy: 0.9334\n",
      "Epoch 21/500\n",
      "1875/1875 [==============================] - 5s 2ms/step - loss: 0.1698 - accuracy: 0.9372\n",
      "Epoch 22/500\n",
      "1875/1875 [==============================] - 5s 2ms/step - loss: 0.1708 - accuracy: 0.9350\n",
      "Epoch 23/500\n",
      "1875/1875 [==============================] - 5s 2ms/step - loss: 0.1649 - accuracy: 0.9373\n",
      "Epoch 24/500\n",
      "1875/1875 [==============================] - 4s 2ms/step - loss: 0.1612 - accuracy: 0.9400\n",
      "Epoch 25/500\n",
      "1875/1875 [==============================] - 5s 2ms/step - loss: 0.1580 - accuracy: 0.9406\n",
      "Epoch 26/500\n",
      "1875/1875 [==============================] - 4s 2ms/step - loss: 0.1551 - accuracy: 0.9412\n",
      "Epoch 27/500\n",
      "1875/1875 [==============================] - 4s 2ms/step - loss: 0.1525 - accuracy: 0.9430\n",
      "Epoch 28/500\n",
      "1875/1875 [==============================] - 5s 3ms/step - loss: 0.1454 - accuracy: 0.9455\n",
      "Epoch 29/500\n",
      "1875/1875 [==============================] - 5s 3ms/step - loss: 0.1423 - accuracy: 0.9451\n",
      "Epoch 30/500\n",
      "1875/1875 [==============================] - 5s 3ms/step - loss: 0.1417 - accuracy: 0.9463\n",
      "Epoch 31/500\n",
      "1875/1875 [==============================] - 5s 3ms/step - loss: 0.1392 - accuracy: 0.9474\n",
      "Epoch 32/500\n",
      "1875/1875 [==============================] - 5s 3ms/step - loss: 0.1345 - accuracy: 0.9494\n",
      "Epoch 33/500\n",
      "1875/1875 [==============================] - 5s 3ms/step - loss: 0.1307 - accuracy: 0.9516\n",
      "Epoch 34/500\n",
      "1875/1875 [==============================] - 5s 3ms/step - loss: 0.1310 - accuracy: 0.9509\n",
      "Epoch 35/500\n",
      "1875/1875 [==============================] - 5s 2ms/step - loss: 0.1231 - accuracy: 0.9544\n",
      "Epoch 36/500\n",
      "1875/1875 [==============================] - 5s 3ms/step - loss: 0.1250 - accuracy: 0.9525\n",
      "Epoch 37/500\n",
      "1875/1875 [==============================] - 5s 2ms/step - loss: 0.1223 - accuracy: 0.9543\n",
      "Epoch 38/500\n",
      "1875/1875 [==============================] - 4s 2ms/step - loss: 0.1205 - accuracy: 0.9555\n",
      "Epoch 39/500\n",
      "1875/1875 [==============================] - 4s 2ms/step - loss: 0.1167 - accuracy: 0.9556\n",
      "Epoch 40/500\n",
      "1875/1875 [==============================] - 5s 2ms/step - loss: 0.1178 - accuracy: 0.9557\n",
      "Epoch 41/500\n",
      "1875/1875 [==============================] - 5s 2ms/step - loss: 0.1112 - accuracy: 0.9581\n",
      "Epoch 42/500\n",
      "1875/1875 [==============================] - 5s 2ms/step - loss: 0.1140 - accuracy: 0.9575\n",
      "Epoch 43/500\n",
      "1875/1875 [==============================] - 4s 2ms/step - loss: 0.1084 - accuracy: 0.9590\n",
      "Epoch 44/500\n",
      "1875/1875 [==============================] - 5s 2ms/step - loss: 0.1076 - accuracy: 0.9596\n",
      "Epoch 45/500\n",
      "1875/1875 [==============================] - 5s 2ms/step - loss: 0.1087 - accuracy: 0.9591\n",
      "Epoch 46/500\n",
      "1875/1875 [==============================] - 5s 2ms/step - loss: 0.1082 - accuracy: 0.9601\n",
      "Epoch 47/500\n",
      "1875/1875 [==============================] - 5s 3ms/step - loss: 0.1045 - accuracy: 0.9614\n",
      "Epoch 48/500\n",
      "1875/1875 [==============================] - 4s 2ms/step - loss: 0.0999 - accuracy: 0.9631\n",
      "Epoch 49/500\n",
      "1875/1875 [==============================] - 5s 2ms/step - loss: 0.0995 - accuracy: 0.9630\n",
      "Epoch 50/500\n",
      "1875/1875 [==============================] - 4s 2ms/step - loss: 0.0959 - accuracy: 0.9644\n",
      "Epoch 51/500\n",
      "1875/1875 [==============================] - 4s 2ms/step - loss: 0.0973 - accuracy: 0.9634\n",
      "Epoch 52/500\n",
      "1875/1875 [==============================] - 5s 2ms/step - loss: 0.0941 - accuracy: 0.9642\n",
      "Epoch 53/500\n",
      "1875/1875 [==============================] - 5s 3ms/step - loss: 0.0928 - accuracy: 0.9655\n",
      "Epoch 54/500\n",
      "1875/1875 [==============================] - 5s 3ms/step - loss: 0.0919 - accuracy: 0.9658\n",
      "Epoch 55/500\n",
      "1875/1875 [==============================] - 5s 2ms/step - loss: 0.0968 - accuracy: 0.9637\n",
      "Epoch 56/500\n",
      "1875/1875 [==============================] - 5s 2ms/step - loss: 0.0878 - accuracy: 0.9675\n",
      "Epoch 57/500\n",
      "1875/1875 [==============================] - 5s 2ms/step - loss: 0.0877 - accuracy: 0.9667\n",
      "Epoch 58/500\n",
      "1875/1875 [==============================] - 5s 2ms/step - loss: 0.0851 - accuracy: 0.9688\n",
      "Epoch 59/500\n",
      "1875/1875 [==============================] - 4s 2ms/step - loss: 0.0853 - accuracy: 0.9682\n",
      "Epoch 60/500\n",
      "1875/1875 [==============================] - 5s 2ms/step - loss: 0.0873 - accuracy: 0.9675\n",
      "Epoch 61/500\n",
      "1875/1875 [==============================] - 4s 2ms/step - loss: 0.0813 - accuracy: 0.9700\n",
      "Epoch 62/500\n",
      "1875/1875 [==============================] - 5s 2ms/step - loss: 0.0815 - accuracy: 0.9694\n",
      "Epoch 63/500\n",
      "1875/1875 [==============================] - 5s 2ms/step - loss: 0.0820 - accuracy: 0.9693\n",
      "Epoch 64/500\n",
      "1875/1875 [==============================] - 4s 2ms/step - loss: 0.0789 - accuracy: 0.9706\n",
      "Epoch 65/500\n",
      "1875/1875 [==============================] - 4s 2ms/step - loss: 0.0776 - accuracy: 0.9710\n",
      "Epoch 66/500\n",
      "1875/1875 [==============================] - 5s 2ms/step - loss: 0.0778 - accuracy: 0.9707\n",
      "Epoch 67/500\n",
      "1875/1875 [==============================] - 5s 2ms/step - loss: 0.0751 - accuracy: 0.9721\n",
      "Epoch 68/500\n",
      "1875/1875 [==============================] - 5s 3ms/step - loss: 0.0787 - accuracy: 0.9704\n",
      "Epoch 69/500\n",
      "1875/1875 [==============================] - 6s 3ms/step - loss: 0.0732 - accuracy: 0.9725\n",
      "Epoch 70/500\n",
      "1875/1875 [==============================] - 5s 3ms/step - loss: 0.0753 - accuracy: 0.9721\n",
      "Epoch 71/500\n",
      "1875/1875 [==============================] - 5s 2ms/step - loss: 0.0723 - accuracy: 0.9738\n",
      "Epoch 72/500\n",
      "1875/1875 [==============================] - 5s 3ms/step - loss: 0.0728 - accuracy: 0.9733\n",
      "Epoch 73/500\n",
      "1875/1875 [==============================] - 5s 3ms/step - loss: 0.0699 - accuracy: 0.9738\n",
      "Epoch 74/500\n",
      "1875/1875 [==============================] - 5s 3ms/step - loss: 0.0720 - accuracy: 0.9734\n",
      "Epoch 75/500\n",
      "1875/1875 [==============================] - 5s 3ms/step - loss: 0.0703 - accuracy: 0.9740\n",
      "Epoch 76/500\n",
      "1875/1875 [==============================] - 5s 3ms/step - loss: 0.0682 - accuracy: 0.9740\n",
      "Epoch 77/500\n",
      "1875/1875 [==============================] - 6s 3ms/step - loss: 0.0673 - accuracy: 0.9743\n",
      "Epoch 78/500\n",
      "1875/1875 [==============================] - 5s 3ms/step - loss: 0.0675 - accuracy: 0.9753\n",
      "Epoch 79/500\n",
      "1875/1875 [==============================] - 6s 3ms/step - loss: 0.0646 - accuracy: 0.9763\n",
      "Epoch 80/500\n",
      "1875/1875 [==============================] - 5s 3ms/step - loss: 0.0664 - accuracy: 0.9753\n",
      "Epoch 81/500\n",
      "1875/1875 [==============================] - 5s 2ms/step - loss: 0.0688 - accuracy: 0.9747\n",
      "Epoch 82/500\n",
      "1875/1875 [==============================] - 6s 3ms/step - loss: 0.0618 - accuracy: 0.9771\n",
      "Epoch 83/500\n",
      "1875/1875 [==============================] - 7s 4ms/step - loss: 0.0628 - accuracy: 0.9765\n",
      "Epoch 84/500\n",
      "1875/1875 [==============================] - 5s 3ms/step - loss: 0.0630 - accuracy: 0.9769\n",
      "Epoch 85/500\n",
      "1875/1875 [==============================] - 7s 4ms/step - loss: 0.0584 - accuracy: 0.9783\n",
      "Epoch 86/500\n",
      "1875/1875 [==============================] - 6s 3ms/step - loss: 0.0627 - accuracy: 0.9767\n",
      "Epoch 87/500\n",
      "1875/1875 [==============================] - 6s 3ms/step - loss: 0.0594 - accuracy: 0.9776\n",
      "Epoch 88/500\n",
      "1875/1875 [==============================] - 5s 3ms/step - loss: 0.0584 - accuracy: 0.9776\n",
      "Epoch 89/500\n",
      "1875/1875 [==============================] - 5s 3ms/step - loss: 0.0593 - accuracy: 0.9779\n",
      "Epoch 90/500\n",
      "1875/1875 [==============================] - 6s 3ms/step - loss: 0.0606 - accuracy: 0.9778\n",
      "Epoch 91/500\n",
      "1875/1875 [==============================] - 5s 3ms/step - loss: 0.0577 - accuracy: 0.9793\n",
      "Epoch 92/500\n",
      "1875/1875 [==============================] - 6s 3ms/step - loss: 0.0579 - accuracy: 0.9780\n",
      "Epoch 93/500\n",
      "1875/1875 [==============================] - 5s 3ms/step - loss: 0.0559 - accuracy: 0.9797\n",
      "Epoch 94/500\n",
      "1875/1875 [==============================] - 5s 3ms/step - loss: 0.0567 - accuracy: 0.9785\n",
      "Epoch 95/500\n",
      "1875/1875 [==============================] - 5s 3ms/step - loss: 0.0548 - accuracy: 0.9797\n",
      "Epoch 96/500\n",
      "1875/1875 [==============================] - 5s 3ms/step - loss: 0.0547 - accuracy: 0.9801\n",
      "Epoch 97/500\n",
      "1875/1875 [==============================] - 7s 4ms/step - loss: 0.0559 - accuracy: 0.9789\n",
      "Epoch 98/500\n",
      "1875/1875 [==============================] - 6s 3ms/step - loss: 0.0530 - accuracy: 0.9802\n",
      "Epoch 99/500\n",
      "1875/1875 [==============================] - 6s 3ms/step - loss: 0.0513 - accuracy: 0.9805\n",
      "Epoch 100/500\n",
      "1875/1875 [==============================] - 5s 3ms/step - loss: 0.0539 - accuracy: 0.9798\n",
      "Epoch 101/500\n",
      "1875/1875 [==============================] - 5s 3ms/step - loss: 0.0526 - accuracy: 0.9808\n",
      "Epoch 102/500\n",
      "1875/1875 [==============================] - 6s 3ms/step - loss: 0.0538 - accuracy: 0.9799\n",
      "Epoch 103/500\n",
      "1875/1875 [==============================] - 5s 3ms/step - loss: 0.0514 - accuracy: 0.9809\n",
      "Epoch 104/500\n",
      "1875/1875 [==============================] - 6s 3ms/step - loss: 0.0498 - accuracy: 0.9815\n",
      "Epoch 105/500\n",
      "1875/1875 [==============================] - 5s 3ms/step - loss: 0.0503 - accuracy: 0.9822\n",
      "Epoch 106/500\n",
      "1875/1875 [==============================] - 5s 3ms/step - loss: 0.0501 - accuracy: 0.9818\n",
      "Epoch 107/500\n",
      "1875/1875 [==============================] - 4s 2ms/step - loss: 0.0481 - accuracy: 0.9820\n",
      "Epoch 108/500\n",
      "1875/1875 [==============================] - 5s 3ms/step - loss: 0.0499 - accuracy: 0.9815\n",
      "Epoch 109/500\n",
      "1875/1875 [==============================] - 5s 3ms/step - loss: 0.0471 - accuracy: 0.9826\n",
      "Epoch 110/500\n",
      "1875/1875 [==============================] - 5s 3ms/step - loss: 0.0471 - accuracy: 0.9827\n",
      "Epoch 111/500\n",
      "1875/1875 [==============================] - 5s 3ms/step - loss: 0.0511 - accuracy: 0.9809\n",
      "Epoch 112/500\n",
      "1875/1875 [==============================] - 5s 2ms/step - loss: 0.0478 - accuracy: 0.9826\n",
      "Epoch 113/500\n",
      "1875/1875 [==============================] - 5s 2ms/step - loss: 0.0458 - accuracy: 0.9837\n",
      "Epoch 114/500\n",
      "1875/1875 [==============================] - 5s 3ms/step - loss: 0.0453 - accuracy: 0.9831\n",
      "Epoch 115/500\n",
      " 383/1875 [=====>........................] - ETA: 3s - loss: 0.0456 - accuracy: 0.9842"
     ]
    },
    {
     "ename": "KeyboardInterrupt",
     "evalue": "",
     "output_type": "error",
     "traceback": [
      "\u001b[0;31m---------------------------------------------------------------------------\u001b[0m",
      "\u001b[0;31mKeyboardInterrupt\u001b[0m                         Traceback (most recent call last)",
      "Cell \u001b[0;32mIn [11], line 1\u001b[0m\n\u001b[0;32m----> 1\u001b[0m \u001b[43mmodel\u001b[49m\u001b[38;5;241;43m.\u001b[39;49m\u001b[43mfit\u001b[49m\u001b[43m(\u001b[49m\u001b[43mtrain_dataset\u001b[49m\u001b[43m,\u001b[49m\u001b[43m \u001b[49m\u001b[43mepochs\u001b[49m\u001b[38;5;241;43m=\u001b[39;49m\u001b[38;5;241;43m500\u001b[39;49m\u001b[43m,\u001b[49m\u001b[43m \u001b[49m\u001b[43msteps_per_epoch\u001b[49m\u001b[38;5;241;43m=\u001b[39;49m\u001b[43mmath\u001b[49m\u001b[38;5;241;43m.\u001b[39;49m\u001b[43mceil\u001b[49m\u001b[43m(\u001b[49m\u001b[43mnum_train_examples\u001b[49m\u001b[38;5;241;43m/\u001b[39;49m\u001b[43mBATCH_SIZE\u001b[49m\u001b[43m)\u001b[49m\u001b[43m)\u001b[49m\n",
      "File \u001b[0;32m/Library/Frameworks/Python.framework/Versions/3.8/lib/python3.8/site-packages/keras/utils/traceback_utils.py:65\u001b[0m, in \u001b[0;36mfilter_traceback.<locals>.error_handler\u001b[0;34m(*args, **kwargs)\u001b[0m\n\u001b[1;32m     63\u001b[0m filtered_tb \u001b[39m=\u001b[39m \u001b[39mNone\u001b[39;00m\n\u001b[1;32m     64\u001b[0m \u001b[39mtry\u001b[39;00m:\n\u001b[0;32m---> 65\u001b[0m     \u001b[39mreturn\u001b[39;00m fn(\u001b[39m*\u001b[39;49margs, \u001b[39m*\u001b[39;49m\u001b[39m*\u001b[39;49mkwargs)\n\u001b[1;32m     66\u001b[0m \u001b[39mexcept\u001b[39;00m \u001b[39mException\u001b[39;00m \u001b[39mas\u001b[39;00m e:\n\u001b[1;32m     67\u001b[0m     filtered_tb \u001b[39m=\u001b[39m _process_traceback_frames(e\u001b[39m.\u001b[39m__traceback__)\n",
      "File \u001b[0;32m/Library/Frameworks/Python.framework/Versions/3.8/lib/python3.8/site-packages/keras/engine/training.py:1570\u001b[0m, in \u001b[0;36mModel.fit\u001b[0;34m(self, x, y, batch_size, epochs, verbose, callbacks, validation_split, validation_data, shuffle, class_weight, sample_weight, initial_epoch, steps_per_epoch, validation_steps, validation_batch_size, validation_freq, max_queue_size, workers, use_multiprocessing)\u001b[0m\n\u001b[1;32m   1568\u001b[0m logs \u001b[39m=\u001b[39m tmp_logs\n\u001b[1;32m   1569\u001b[0m end_step \u001b[39m=\u001b[39m step \u001b[39m+\u001b[39m data_handler\u001b[39m.\u001b[39mstep_increment\n\u001b[0;32m-> 1570\u001b[0m callbacks\u001b[39m.\u001b[39;49mon_train_batch_end(end_step, logs)\n\u001b[1;32m   1571\u001b[0m \u001b[39mif\u001b[39;00m \u001b[39mself\u001b[39m\u001b[39m.\u001b[39mstop_training:\n\u001b[1;32m   1572\u001b[0m     \u001b[39mbreak\u001b[39;00m\n",
      "File \u001b[0;32m/Library/Frameworks/Python.framework/Versions/3.8/lib/python3.8/site-packages/keras/callbacks.py:470\u001b[0m, in \u001b[0;36mCallbackList.on_train_batch_end\u001b[0;34m(self, batch, logs)\u001b[0m\n\u001b[1;32m    463\u001b[0m \u001b[39m\"\"\"Calls the `on_train_batch_end` methods of its callbacks.\u001b[39;00m\n\u001b[1;32m    464\u001b[0m \n\u001b[1;32m    465\u001b[0m \u001b[39mArgs:\u001b[39;00m\n\u001b[1;32m    466\u001b[0m \u001b[39m    batch: Integer, index of batch within the current epoch.\u001b[39;00m\n\u001b[1;32m    467\u001b[0m \u001b[39m    logs: Dict. Aggregated metric results up until this batch.\u001b[39;00m\n\u001b[1;32m    468\u001b[0m \u001b[39m\"\"\"\u001b[39;00m\n\u001b[1;32m    469\u001b[0m \u001b[39mif\u001b[39;00m \u001b[39mself\u001b[39m\u001b[39m.\u001b[39m_should_call_train_batch_hooks:\n\u001b[0;32m--> 470\u001b[0m     \u001b[39mself\u001b[39;49m\u001b[39m.\u001b[39;49m_call_batch_hook(ModeKeys\u001b[39m.\u001b[39;49mTRAIN, \u001b[39m\"\u001b[39;49m\u001b[39mend\u001b[39;49m\u001b[39m\"\u001b[39;49m, batch, logs\u001b[39m=\u001b[39;49mlogs)\n",
      "File \u001b[0;32m/Library/Frameworks/Python.framework/Versions/3.8/lib/python3.8/site-packages/keras/callbacks.py:317\u001b[0m, in \u001b[0;36mCallbackList._call_batch_hook\u001b[0;34m(self, mode, hook, batch, logs)\u001b[0m\n\u001b[1;32m    315\u001b[0m     \u001b[39mself\u001b[39m\u001b[39m.\u001b[39m_call_batch_begin_hook(mode, batch, logs)\n\u001b[1;32m    316\u001b[0m \u001b[39melif\u001b[39;00m hook \u001b[39m==\u001b[39m \u001b[39m\"\u001b[39m\u001b[39mend\u001b[39m\u001b[39m\"\u001b[39m:\n\u001b[0;32m--> 317\u001b[0m     \u001b[39mself\u001b[39;49m\u001b[39m.\u001b[39;49m_call_batch_end_hook(mode, batch, logs)\n\u001b[1;32m    318\u001b[0m \u001b[39melse\u001b[39;00m:\n\u001b[1;32m    319\u001b[0m     \u001b[39mraise\u001b[39;00m \u001b[39mValueError\u001b[39;00m(\n\u001b[1;32m    320\u001b[0m         \u001b[39mf\u001b[39m\u001b[39m\"\u001b[39m\u001b[39mUnrecognized hook: \u001b[39m\u001b[39m{\u001b[39;00mhook\u001b[39m}\u001b[39;00m\u001b[39m. \u001b[39m\u001b[39m\"\u001b[39m\n\u001b[1;32m    321\u001b[0m         \u001b[39m'\u001b[39m\u001b[39mExpected values are [\u001b[39m\u001b[39m\"\u001b[39m\u001b[39mbegin\u001b[39m\u001b[39m\"\u001b[39m\u001b[39m, \u001b[39m\u001b[39m\"\u001b[39m\u001b[39mend\u001b[39m\u001b[39m\"\u001b[39m\u001b[39m]\u001b[39m\u001b[39m'\u001b[39m\n\u001b[1;32m    322\u001b[0m     )\n",
      "File \u001b[0;32m/Library/Frameworks/Python.framework/Versions/3.8/lib/python3.8/site-packages/keras/callbacks.py:340\u001b[0m, in \u001b[0;36mCallbackList._call_batch_end_hook\u001b[0;34m(self, mode, batch, logs)\u001b[0m\n\u001b[1;32m    337\u001b[0m     batch_time \u001b[39m=\u001b[39m time\u001b[39m.\u001b[39mtime() \u001b[39m-\u001b[39m \u001b[39mself\u001b[39m\u001b[39m.\u001b[39m_batch_start_time\n\u001b[1;32m    338\u001b[0m     \u001b[39mself\u001b[39m\u001b[39m.\u001b[39m_batch_times\u001b[39m.\u001b[39mappend(batch_time)\n\u001b[0;32m--> 340\u001b[0m \u001b[39mself\u001b[39;49m\u001b[39m.\u001b[39;49m_call_batch_hook_helper(hook_name, batch, logs)\n\u001b[1;32m    342\u001b[0m \u001b[39mif\u001b[39;00m \u001b[39mlen\u001b[39m(\u001b[39mself\u001b[39m\u001b[39m.\u001b[39m_batch_times) \u001b[39m>\u001b[39m\u001b[39m=\u001b[39m \u001b[39mself\u001b[39m\u001b[39m.\u001b[39m_num_batches_for_timing_check:\n\u001b[1;32m    343\u001b[0m     end_hook_name \u001b[39m=\u001b[39m hook_name\n",
      "File \u001b[0;32m/Library/Frameworks/Python.framework/Versions/3.8/lib/python3.8/site-packages/keras/callbacks.py:388\u001b[0m, in \u001b[0;36mCallbackList._call_batch_hook_helper\u001b[0;34m(self, hook_name, batch, logs)\u001b[0m\n\u001b[1;32m    386\u001b[0m \u001b[39mfor\u001b[39;00m callback \u001b[39min\u001b[39;00m \u001b[39mself\u001b[39m\u001b[39m.\u001b[39mcallbacks:\n\u001b[1;32m    387\u001b[0m     hook \u001b[39m=\u001b[39m \u001b[39mgetattr\u001b[39m(callback, hook_name)\n\u001b[0;32m--> 388\u001b[0m     hook(batch, logs)\n\u001b[1;32m    390\u001b[0m \u001b[39mif\u001b[39;00m \u001b[39mself\u001b[39m\u001b[39m.\u001b[39m_check_timing:\n\u001b[1;32m    391\u001b[0m     \u001b[39mif\u001b[39;00m hook_name \u001b[39mnot\u001b[39;00m \u001b[39min\u001b[39;00m \u001b[39mself\u001b[39m\u001b[39m.\u001b[39m_hook_times:\n",
      "File \u001b[0;32m/Library/Frameworks/Python.framework/Versions/3.8/lib/python3.8/site-packages/keras/callbacks.py:1081\u001b[0m, in \u001b[0;36mProgbarLogger.on_train_batch_end\u001b[0;34m(self, batch, logs)\u001b[0m\n\u001b[1;32m   1080\u001b[0m \u001b[39mdef\u001b[39;00m \u001b[39mon_train_batch_end\u001b[39m(\u001b[39mself\u001b[39m, batch, logs\u001b[39m=\u001b[39m\u001b[39mNone\u001b[39;00m):\n\u001b[0;32m-> 1081\u001b[0m     \u001b[39mself\u001b[39;49m\u001b[39m.\u001b[39;49m_batch_update_progbar(batch, logs)\n",
      "File \u001b[0;32m/Library/Frameworks/Python.framework/Versions/3.8/lib/python3.8/site-packages/keras/callbacks.py:1157\u001b[0m, in \u001b[0;36mProgbarLogger._batch_update_progbar\u001b[0;34m(self, batch, logs)\u001b[0m\n\u001b[1;32m   1153\u001b[0m     \u001b[39mself\u001b[39m\u001b[39m.\u001b[39mseen \u001b[39m+\u001b[39m\u001b[39m=\u001b[39m add_seen\n\u001b[1;32m   1155\u001b[0m \u001b[39mif\u001b[39;00m \u001b[39mself\u001b[39m\u001b[39m.\u001b[39mverbose \u001b[39m==\u001b[39m \u001b[39m1\u001b[39m:\n\u001b[1;32m   1156\u001b[0m     \u001b[39m# Only block async when verbose = 1.\u001b[39;00m\n\u001b[0;32m-> 1157\u001b[0m     logs \u001b[39m=\u001b[39m tf_utils\u001b[39m.\u001b[39;49msync_to_numpy_or_python_type(logs)\n\u001b[1;32m   1158\u001b[0m     \u001b[39mself\u001b[39m\u001b[39m.\u001b[39mprogbar\u001b[39m.\u001b[39mupdate(\u001b[39mself\u001b[39m\u001b[39m.\u001b[39mseen, \u001b[39mlist\u001b[39m(logs\u001b[39m.\u001b[39mitems()), finalize\u001b[39m=\u001b[39m\u001b[39mFalse\u001b[39;00m)\n",
      "File \u001b[0;32m/Library/Frameworks/Python.framework/Versions/3.8/lib/python3.8/site-packages/keras/utils/tf_utils.py:622\u001b[0m, in \u001b[0;36msync_to_numpy_or_python_type\u001b[0;34m(tensors)\u001b[0m\n\u001b[1;32m    599\u001b[0m \u001b[39mdef\u001b[39;00m \u001b[39msync_to_numpy_or_python_type\u001b[39m(tensors):\n\u001b[1;32m    600\u001b[0m     \u001b[39m\"\"\"Syncs and converts a structure of `Tensor`s to `NumPy` arrays or Python\u001b[39;00m\n\u001b[1;32m    601\u001b[0m \u001b[39m    scalar types.\u001b[39;00m\n\u001b[1;32m    602\u001b[0m \n\u001b[0;32m   (...)\u001b[0m\n\u001b[1;32m    620\u001b[0m \u001b[39m      tensors are converted to Numpy arrays.\u001b[39;00m\n\u001b[1;32m    621\u001b[0m \u001b[39m    \"\"\"\u001b[39;00m\n\u001b[0;32m--> 622\u001b[0m     \u001b[39mif\u001b[39;00m \u001b[39misinstance\u001b[39m(tensors, tf\u001b[39m.\u001b[39;49mdistribute\u001b[39m.\u001b[39;49mexperimental\u001b[39m.\u001b[39;49mcoordinator\u001b[39m.\u001b[39mRemoteValue):\n\u001b[1;32m    623\u001b[0m         tensors \u001b[39m=\u001b[39m tensors\u001b[39m.\u001b[39mfetch()\n\u001b[1;32m    625\u001b[0m     \u001b[39mdef\u001b[39;00m \u001b[39m_to_single_numpy_or_python_type\u001b[39m(t):\n\u001b[1;32m    626\u001b[0m         \u001b[39m# Don't turn ragged or sparse tensors to NumPy.\u001b[39;00m\n",
      "\u001b[0;31mKeyboardInterrupt\u001b[0m: "
     ]
    }
   ],
   "source": [
    "model.fit(train_dataset, epochs=500, steps_per_epoch=math.ceil(num_train_examples/BATCH_SIZE))"
   ]
  },
  {
   "cell_type": "markdown",
   "metadata": {},
   "source": [
    "After the model gets trained its accuracy gets evaluated against the test dataset"
   ]
  },
  {
   "cell_type": "code",
   "execution_count": null,
   "metadata": {},
   "outputs": [],
   "source": [
    "test_loss, test_accuracy = model.evaluate(test_dataset, steps=math.ceil(num_test_examples/32))\n",
    "print('Accuracy on test dataset:', test_accuracy)"
   ]
  },
  {
   "cell_type": "markdown",
   "metadata": {},
   "source": [
    "After the model has been trained and its accuracy has been assessed, it can be used to make predictions."
   ]
  },
  {
   "cell_type": "code",
   "execution_count": null,
   "metadata": {},
   "outputs": [],
   "source": [
    "for test_images, test_labels in test_dataset.take(1):\n",
    "  test_images = test_images.numpy()\n",
    "  test_labels = test_labels.numpy()\n",
    "  predictions = model.predict(test_images)\n",
    "\n",
    "predictions.shape"
   ]
  },
  {
   "cell_type": "code",
   "execution_count": null,
   "metadata": {},
   "outputs": [],
   "source": [
    "predictions[0]"
   ]
  },
  {
   "cell_type": "markdown",
   "metadata": {},
   "source": [
    "This ad the model make predictions about the rest of the dataset. This outputs the confidence for all of the different articles of clothing, but we can find the one with the highest value and only return that."
   ]
  },
  {
   "cell_type": "code",
   "execution_count": null,
   "metadata": {},
   "outputs": [],
   "source": [
    "np.argmax(predictions[0])"
   ]
  },
  {
   "cell_type": "markdown",
   "metadata": {},
   "source": [
    "We can also graph the confidence"
   ]
  },
  {
   "cell_type": "code",
   "execution_count": null,
   "metadata": {},
   "outputs": [],
   "source": [
    "def plot_image(i, predictions_array, true_labels, images):\n",
    "  predictions_array, true_label, img = predictions_array[i], true_labels[i], images[i]\n",
    "  plt.grid(False)\n",
    "  plt.xticks([])\n",
    "  plt.yticks([])\n",
    "  \n",
    "  plt.imshow(img[...,0], cmap=plt.cm.binary)\n",
    "\n",
    "  predicted_label = np.argmax(predictions_array)\n",
    "  if predicted_label == true_label:\n",
    "    color = 'blue'\n",
    "  else:\n",
    "    color = 'red'\n",
    "  \n",
    "  plt.xlabel(\"{} {:2.0f}% ({})\".format(class_names[predicted_label],\n",
    "                                100*np.max(predictions_array),\n",
    "                                class_names[true_label]),\n",
    "                                color=color)\n",
    "\n",
    "def plot_value_array(i, predictions_array, true_label):\n",
    "  predictions_array, true_label = predictions_array[i], true_label[i]\n",
    "  plt.grid(False)\n",
    "  plt.xticks([])\n",
    "  plt.yticks([])\n",
    "  thisplot = plt.bar(range(10), predictions_array, color=\"#777777\")\n",
    "  plt.ylim([0, 1]) \n",
    "  predicted_label = np.argmax(predictions_array)\n",
    "  \n",
    "  thisplot[predicted_label].set_color('red')\n",
    "  thisplot[true_label].set_color('blue')"
   ]
  },
  {
   "cell_type": "code",
   "execution_count": null,
   "metadata": {},
   "outputs": [],
   "source": [
    "i = 0\n",
    "plt.figure(figsize=(6,3))\n",
    "plt.subplot(1,2,1)\n",
    "plot_image(i, predictions, test_labels, test_images)\n",
    "plt.subplot(1,2,2)\n",
    "plot_value_array(i, predictions, test_labels)"
   ]
  },
  {
   "cell_type": "code",
   "execution_count": null,
   "metadata": {},
   "outputs": [],
   "source": [
    "i = 12\n",
    "plt.figure(figsize=(6,3))\n",
    "plt.subplot(1,2,1)\n",
    "plot_image(i, predictions, test_labels, test_images)\n",
    "plt.subplot(1,2,2)\n",
    "plot_value_array(i, predictions, test_labels)"
   ]
  },
  {
   "cell_type": "code",
   "execution_count": null,
   "metadata": {},
   "outputs": [],
   "source": [
    "# Plot the first X test images, their predicted label, and the true label\n",
    "# Color correct predictions in blue, incorrect predictions in red\n",
    "num_rows = 5\n",
    "num_cols = 3\n",
    "num_images = num_rows*num_cols\n",
    "plt.figure(figsize=(2*2*num_cols, 2*num_rows))\n",
    "for i in range(num_images):\n",
    "  plt.subplot(num_rows, 2*num_cols, 2*i+1)\n",
    "  plot_image(i, predictions, test_labels, test_images)\n",
    "  plt.subplot(num_rows, 2*num_cols, 2*i+2)\n",
    "  plot_value_array(i, predictions, test_labels)\n"
   ]
  }
 ],
 "metadata": {
  "kernelspec": {
   "display_name": "Python 3.10.7 64-bit",
   "language": "python",
   "name": "python3"
  },
  "language_info": {
   "codemirror_mode": {
    "name": "ipython",
    "version": 3
   },
   "file_extension": ".py",
   "mimetype": "text/x-python",
   "name": "python",
   "nbconvert_exporter": "python",
   "pygments_lexer": "ipython3",
   "version": "3.8.0"
  },
  "orig_nbformat": 4,
  "vscode": {
   "interpreter": {
    "hash": "aee8b7b246df8f9039afb4144a1f6fd8d2ca17a180786b69acc140d282b71a49"
   }
  }
 },
 "nbformat": 4,
 "nbformat_minor": 2
}
